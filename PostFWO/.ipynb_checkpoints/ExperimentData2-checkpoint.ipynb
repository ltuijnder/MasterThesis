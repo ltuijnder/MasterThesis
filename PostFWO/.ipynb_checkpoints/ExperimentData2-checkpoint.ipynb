{
 "cells": [
  {
   "cell_type": "markdown",
   "metadata": {},
   "source": [
    "# Experiment Data 2\n",
    "\n",
    "In this notebook I mainly want to investigate if we can say something significant about the inferred data. \n",
    "\n",
    "We will do this by considering many different situations/species subsamples and will be considering many different subsets where we will then statistically test if they originate from the same true value."
   ]
  },
  {
   "cell_type": "code",
   "execution_count": 1,
   "metadata": {},
   "outputs": [],
   "source": [
    "### Auto reloading moduls\n",
    "%load_ext autoreload\n",
    "%autoreload 2"
   ]
  },
  {
   "cell_type": "code",
   "execution_count": 2,
   "metadata": {},
   "outputs": [],
   "source": [
    "import numpy as np\n",
    "import pandas as pd\n",
    "import matplotlib.pyplot as plt\n",
    "from scipy import stats\n",
    "from helpFunctions import *\n",
    "from generateGLV import *\n",
    "from fitGLV import *\n",
    "from mpl_toolkits.mplot3d import Axes3D\n",
    "import time\n",
    "from matplotlib import gridspec"
   ]
  },
  {
   "cell_type": "markdown",
   "metadata": {},
   "source": [
    "------\n",
    "next import the clean data:"
   ]
  },
  {
   "cell_type": "code",
   "execution_count": 3,
   "metadata": {},
   "outputs": [],
   "source": [
    "x = pd.read_csv('InputData/NewDavid_Data/25_timeseries.txt', na_values='NAN', delimiter='\\t', header=None)\n",
    "TSDavidA = x.T.values"
   ]
  },
  {
   "cell_type": "markdown",
   "metadata": {},
   "source": [
    "## Create different types of datasets:"
   ]
  },
  {
   "cell_type": "markdown",
   "metadata": {},
   "source": [
    "### Set 0 to a low amount:\n",
    "\n",
    "To deal with 0's in the data one has a few options. Previously, I removed those species, however one now has the problem that maybe one removes a heavy abundancy species on the basis of just a single point. \n",
    "\n",
    "In this new approach I will rather just set the species to alow amoutn. Since the lowest measurment possible by the data = 1. I will set 0 species equal to 0.1, Still an order of magnitude lower then the lowest values -> Hence if the real abundancy where this, it would not have been measured. \n",
    "\n",
    "On the other hand if the species was really zero, then maybe 0.1 is to high. It is always a balance trade of between species that were really zero and species that where just so low it was not measured. "
   ]
  },
  {
   "cell_type": "code",
   "execution_count": 4,
   "metadata": {},
   "outputs": [],
   "source": [
    "TSSafe = np.copy(TSDavidA)\n",
    "TSSafe[TSSafe==0] = 0.01"
   ]
  },
  {
   "cell_type": "markdown",
   "metadata": {},
   "source": [
    "### Taking different timesteps\n",
    "\n",
    "The first difference between the datasets that we want to vieuw are the restriction of only using certain timesteps. \n",
    "\n",
    "The main consideration is ofcourse the removal of pertubation regions. However, from the previous notebook we also saw that after the abroad it seemed that for some species moved to a different steady state. And so maybe the steady state after the abroad is not the same. That's why will consider two cases where we just completly remove the first part and hope to only view 1 steadystate.\n",
    "\n",
    "- No removal at all\n",
    "- Removal abroad\n",
    "- Removal abroad and two smaller pertubation regions.\n",
    "- Removal abroad and before\n",
    "- Removal abroad and before and the two small pertubations.\n",
    "\n"
   ]
  },
  {
   "cell_type": "code",
   "execution_count": 5,
   "metadata": {},
   "outputs": [],
   "source": [
    "Zones = [\"All\",\"Abroad\",\"Pertu\",\"Section\",\"SectionP\"]"
   ]
  },
  {
   "cell_type": "markdown",
   "metadata": {},
   "source": [
    "All: meaning nothing is removed, in the other cases those are removed\n",
    "\n",
    "Section = abroad region and that before.\n",
    "SectionP = Section + P = pertubations."
   ]
  },
  {
   "cell_type": "code",
   "execution_count": 6,
   "metadata": {},
   "outputs": [],
   "source": [
    "dBool = {} # Dictionary of boolians.\n",
    "\n",
    "for zone in Zones:\n",
    "    dBool[zone] = np.full( len(TSSafe)-1 , False)\n",
    "    \n",
    "# Flag the appropiate regions with true boolians\n",
    "dBool[\"Abroad\"][73:125] = True\n",
    "dBool[\"Pertu\"][73:125] = True\n",
    "dBool[\"Pertu\"][260:273] = True\n",
    "dBool[\"Pertu\"][195:205] = True\n",
    "dBool[\"Section\"][0:125] = True\n",
    "dBool[\"SectionP\"][0:125] = True\n",
    "dBool[\"SectionP\"][260:273] = True\n",
    "dBool[\"SectionP\"][195:205] = True\n",
    "\n",
    "# Create a TS version of the boolians\n",
    "for key, boolVect in dBool.copy().items():\n",
    "    if key[:7]==\"Section\":\n",
    "        updatedBool = np.append(boolVect,False)\n",
    "    else:\n",
    "        updatedBool = np.append(False,boolVect)\n",
    "    dBool[\"TS_\"+key] = updatedBool"
   ]
  },
  {
   "cell_type": "markdown",
   "metadata": {},
   "source": [
    "Pertubations are highlighted with a boolian vector. Since a pertubation occurs always BETWEEN points we thus have a boolian vector of length -1. And thus tells us if a pertubation has happend between two points. \n",
    "\n",
    "However, often in our analyis down here we want to only make some conditions based on TS in the valid areas. Thus we want a boolian vector that we can apply on the TS directly. There for we need to extend its length. I have now chosen to append a \"False\" on the front. Since meaning we will always consider the first point of our times point as valid. Then after that we can remove points if they happend after a pertubation. \n",
    "\n",
    "And exception to this is the removal of the first part, there we do not want a \"False\" for the first timestep. Hence, we add it at the end."
   ]
  },
  {
   "cell_type": "markdown",
   "metadata": {},
   "source": [
    "### Consider the first N by abundancy:\n",
    "\n",
    "The next subset we want to consider are that of different species. Since we cannot consider all species off them. So to ensure that we are considering the best species that could have the most impact we are considering species with the highest abundancy with the reasoning that low species abundancy are just not abundand enough that they can have an impact on the higher species amounts. \n",
    "\n",
    "When taking the first $N$ it important to consider the first $N$ in the region outside that are flagged as invalid. -> This may alter the order a bit around.\n",
    "\n",
    "Define a vector that holds the species ordered by abudancy in the appriate region. And also store this in a dictionary."
   ]
  },
  {
   "cell_type": "code",
   "execution_count": 7,
   "metadata": {},
   "outputs": [],
   "source": [
    "dOrder = {}\n",
    "for zone in Zones:\n",
    "    dOrder[zone] = np.argsort( np.sum(TSSafe[~dBool[\"TS_\"+ zone]], axis=0))[::-1]"
   ]
  },
  {
   "cell_type": "markdown",
   "metadata": {},
   "source": [
    "We will now start creating a dictionary that contains all the databases. For this I adapt a specific naming convention. Where for which I will be able to store all future database:\n",
    "\n",
    "Name example: `f10_All_MaxStd`\n",
    "\n",
    "Four different types of informations are given here:\n",
    "\n",
    "- 10. The 10 or $N$ in general says how many species this dataset maximumly contains. For instance it could be that it says 50 but duo some other restrictions it the data set contains only 43 species. It just means 50 will be the maximum number. By convention we also say that the total data set is higlighted with 100.\n",
    "- \"f\": the letter in front tells us a bit more about these $N$ species:\n",
    "    - \"f\": the first, for example \"f10\" = first 10\n",
    "    - Future expensions are possible such as \"c\" = custom, or \"r\" random\n",
    "- \"_All\": declares which timezones it should exclude with the exception of ALL -> Here it means that it contains all. But if it says \"_Abroad\" it means that all Abroad region is not considered in the determination with the other considerations\n",
    "- \"_MaxStd\": In general here additional constrains or unique twist can be given. If it left empty then it means that, no additional constraints are given and just the normal TSSave data set was used. We could also here specify for instance \"_NoSafe\" meaning this is a data set where the base did not set the zero elements to a small number. \n",
    "\n",
    "With these convention in place I hope that I will be able to accomidate for every type of data set I can come up with.\n",
    "\n",
    "Now lets create the datasets that for now contain all the data: given by the names: `f100_zone`"
   ]
  },
  {
   "cell_type": "code",
   "execution_count": 8,
   "metadata": {},
   "outputs": [],
   "source": [
    "dDataset = {}\n",
    "for zone in Zones:\n",
    "    copy_base_dataset = np.copy(TSSafe)\n",
    "    dDataset[\"f100_\"+zone] = copy_base_dataset[:,dOrder[zone]]"
   ]
  },
  {
   "cell_type": "markdown",
   "metadata": {},
   "source": [
    "Normalise the data now. Where this normalisation happens per consideration of each reason that is is considered in the dataset:"
   ]
  },
  {
   "cell_type": "code",
   "execution_count": 9,
   "metadata": {},
   "outputs": [],
   "source": [
    "dSS = {} # Dictionary steadystates SS\n",
    "for zone in Zones:\n",
    "    dSS[zone] = np.median(dDataset[\"f100_\"+zone][~dBool[\"TS_\"+zone]], axis=0) \n",
    "\n",
    "# Normalise the datasets\n",
    "for zone in Zones:\n",
    "    dDataset[\"f100_\"+zone] /= dSS[zone]"
   ]
  },
  {
   "cell_type": "markdown",
   "metadata": {},
   "source": [
    "Construct a few first $N$ datasets for each pertubations category:"
   ]
  },
  {
   "cell_type": "code",
   "execution_count": 10,
   "metadata": {},
   "outputs": [],
   "source": [
    "for N in [10,20,50]:\n",
    "    for zone in Zones:\n",
    "        dDataset[\"f\"+str(N)+\"_\"+zone] = dDataset[\"f100_\"+zone][:,:N]"
   ]
  },
  {
   "cell_type": "markdown",
   "metadata": {},
   "source": [
    "### Consider the first N by abundancy under std threshold\n",
    "\n",
    "Next, I want to create a data set that also takes the first $N$ by abundancy, however now I impose the additional constraint that I do not want any species which std of its abundancy goes above a certain threshold. In the last notebook \"ExperimentData\" it was seen that high std species had a negative impact on the inference. \n",
    "\n",
    "By creating these datasets we want to test if removing these high std thresholds had an impact on the inferred value of the those that were not removed?\n",
    "\n",
    "It does not mean that this is the right approach, it just means that we want to evaluate this dataset and compare.\n",
    "\n",
    "-----\n",
    "\n",
    "To do this we first need to again make total fit on the normalised data for the different pertubation categories:"
   ]
  },
  {
   "cell_type": "code",
   "execution_count": 11,
   "metadata": {},
   "outputs": [],
   "source": [
    "dFit = {}\n",
    "dStdEst = {}\n",
    "for zone in Zones:\n",
    "    dFit[\"f100_\"+zone] = fitGLV({\"TS\":dDataset[\"f100_\"+zone],\"pertu\":dBool[zone]}, typeInput=\"Experiment\")\n",
    "    dFit[\"f100_\"+zone].computeNullHypo()\n",
    "    dStdEst[zone] = np.sqrt( dFit[\"f100_\"+zone].varEst)"
   ]
  },
  {
   "cell_type": "markdown",
   "metadata": {},
   "source": [
    "It seems that the dictionary approach reaches different results :/ should not be the case:"
   ]
  },
  {
   "cell_type": "markdown",
   "metadata": {},
   "source": [
    "On the one hand however we do need to be carefull! Since for this we needed to fit with 100 data points -> Which can cause overfitting. Still let's just role with it.\n",
    "\n",
    "Set a certain threshold of STD for each pertubation region:"
   ]
  },
  {
   "cell_type": "code",
   "execution_count": 12,
   "metadata": {},
   "outputs": [],
   "source": [
    "dHighStd = {}\n",
    "for zone, threshold in zip(Zones,[1,0.8,0.8,0.7,0.7]):\n",
    "    dHighStd[zone] =  np.where(dStdEst[zone][0]>threshold)[0]"
   ]
  },
  {
   "cell_type": "markdown",
   "metadata": {},
   "source": [
    "I have chosen to let the threshold be soupler with the condition that flag less pertubations, since with more pertubations present, it will automatically be more variant.\n",
    "\n",
    "Now create the dataset a new but now with these bad species removed first. I do not have to change the order, since they were already orderd, I now just remove certain species. Leaving the order still intact."
   ]
  },
  {
   "cell_type": "code",
   "execution_count": 13,
   "metadata": {},
   "outputs": [],
   "source": [
    "for zone in Zones:\n",
    "    safe_copy_fullDataset = np.copy(dDataset[\"f100_\"+zone])\n",
    "    dDataset[\"f100_\"+zone+\"_MaxStd\"] = np.delete(safe_copy_fullDataset, dHighStd[zone], axis=1)"
   ]
  },
  {
   "cell_type": "markdown",
   "metadata": {},
   "source": [
    "Now take again the first $N$\n",
    "\n",
    "Many datasets do not make it over the 50..."
   ]
  },
  {
   "cell_type": "code",
   "execution_count": 14,
   "metadata": {},
   "outputs": [],
   "source": [
    "for N in [10,20,50]:\n",
    "    for zone in Zones:\n",
    "        dDataset[\"f\"+str(N)+\"_\"+zone+\"_MaxStd\"] =  dDataset[\"f100_\"+zone+\"_MaxStd\"][:,:N]"
   ]
  },
  {
   "cell_type": "markdown",
   "metadata": {},
   "source": [
    "So we now have created the datasets that we want to evaluate and see if there prediction for a certain parameters changes severly:\n",
    "\n",
    "We have the following categries:\n",
    "\n",
    "- 5 Different timeregions consider\n",
    "- 3 Different first $N$\n",
    "- with and without STD constrain\n",
    "\n",
    "Giving us a total of 30 different sets to work with. So what I first to make a comparison matrix is a bit much right now. So select only a handfull of data sets that you want to compare against each other. And create this will mutliple smaller matrixes. \n",
    "\n",
    "Between these different data sets we now want to compare if the fitting a given parameters stays roughly the same. Later on we will even create subsets of independed datasets to statistical significant tests. But for now we are simply going to compare the ratio.\n",
    "\n",
    "Ofcourse it is important that we compare the fitted interaction between the same species!! Which is not that easy since we shuffeld for each dataset two times:\n",
    "\n",
    "- First: We have reorderd the species according to the abundancy in there respectif valid region.\n",
    "- Second: We have deleted species, where the index of the species that are deleted are the output of the first reordening ! This deletion only happend when talking about the MaxSTD.\n",
    "\n",
    "So what we first need to figure out is a way to find the same species. And have a way to check if it maybe does not exist in a certain dataset.\n",
    "\n",
    "A first step to do this is just with the data sets where no species have been deleted. And then figure out how to do it with the species deleted. "
   ]
  },
  {
   "cell_type": "markdown",
   "metadata": {},
   "source": [
    "### Comparing species between datasets:\n",
    "\n",
    "What we will be doing is have dictionary with the key being the reference number of that species and the value being the column that species with that reference key number corresponds with in the dataset. \n",
    "\n",
    "First lets just do it for the non maxSTD datasets:"
   ]
  },
  {
   "cell_type": "code",
   "execution_count": 15,
   "metadata": {},
   "outputs": [],
   "source": [
    "def toDict(orderDataset):\n",
    "    datasetDict = {}\n",
    "    for i, j in enumerate(orderDataset):\n",
    "        datasetDict[i] = np.where(orderDataset==i)[0][0]\n",
    "    return datasetDict"
   ]
  },
  {
   "cell_type": "code",
   "execution_count": 16,
   "metadata": {},
   "outputs": [],
   "source": [
    "dDictSpecies = {}\n",
    "for zone in Zones:\n",
    "    dDictSpecies[\"f100_\"+zone] = toDict(dOrder[zone])"
   ]
  },
  {
   "cell_type": "markdown",
   "metadata": {},
   "source": [
    "Now consider the removale of species orderd by the value. "
   ]
  },
  {
   "cell_type": "code",
   "execution_count": 17,
   "metadata": {},
   "outputs": [],
   "source": [
    "def removeSpeciesFromDict(dictDataset, columnsToRemove):\n",
    "    newDict = {}\n",
    "    sortedColumns = np.sort(columnsToRemove)\n",
    "    for refSpecies, oldColumn in dictDataset.items():\n",
    "        if oldColumn not in sortedColumns:\n",
    "            newDict[refSpecies] = oldColumn - np.sum(sortedColumns<oldColumn)\n",
    "    return newDict"
   ]
  },
  {
   "cell_type": "markdown",
   "metadata": {},
   "source": [
    "comments on the function removeSpeciesFromDict:\n",
    "\n",
    "DictDataset = current key-column setup of a dataset. There are gaps allowed in the present keys but no gaps are allowed in the columns. Every number needs to be present from 0 to len(dict)-1.\n",
    "    \n",
    "columnsToRemove = list of columns that are being removed from dataset.\n",
    "    \n",
    "newDict =  The correct dictionary of the new dataset. Every number between 0 to len(dict) len(columnsToRemove)-1 needs to be present in the values of the new dictionary"
   ]
  },
  {
   "cell_type": "code",
   "execution_count": 18,
   "metadata": {},
   "outputs": [],
   "source": [
    "for zone in Zones:\n",
    "    dDictSpecies[\"f100_\"+zone+\"_MaxStd\"] =  removeSpeciesFromDict(dDictSpecies[\"f100_\"+zone], dHighStd[zone])"
   ]
  },
  {
   "cell_type": "markdown",
   "metadata": {},
   "source": [
    "To test, look at some dictioniaries that share a reference species and then look if they plot the same and compare with the reference TSSafe.\n",
    "\n",
    "-> After some debugging it works fine!"
   ]
  },
  {
   "cell_type": "code",
   "execution_count": 19,
   "metadata": {},
   "outputs": [],
   "source": [
    "def dictFirstN(dictionary, N):\n",
    "    dictFirstN = {}\n",
    "    for refSpecies, column in dictionary.items():\n",
    "        if column<N:\n",
    "            dictFirstN[refSpecies] = column\n",
    "    return dictFirstN"
   ]
  },
  {
   "cell_type": "markdown",
   "metadata": {},
   "source": [
    "Create all the new datasets and store them in the dictionary"
   ]
  },
  {
   "cell_type": "code",
   "execution_count": 20,
   "metadata": {},
   "outputs": [],
   "source": [
    "for N in [10,20,50]:\n",
    "    for zone in Zones:\n",
    "        for cond in [\"\",\"_MaxStd\"]:\n",
    "            dDictSpecies[\"f\"+str(N)+\"_\"+zone+cond] = dictFirstN(dDictSpecies[\"f100_\"+zone+cond],N)"
   ]
  },
  {
   "cell_type": "markdown",
   "metadata": {},
   "source": [
    "Let's find the species that are contained in every dataset!"
   ]
  },
  {
   "cell_type": "code",
   "execution_count": 21,
   "metadata": {},
   "outputs": [
    {
     "data": {
      "text/plain": [
       "[3, 4, 6, 7, 8]"
      ]
     },
     "execution_count": 21,
     "metadata": {},
     "output_type": "execute_result"
    }
   ],
   "source": [
    "listSpeciesLeft = list(range(100))\n",
    "for dic in dDictSpecies.values():\n",
    "    SpeciesInDataset = np.fromiter(dic.keys(),dtype= int)\n",
    "    for speciesLeft in listSpeciesLeft:\n",
    "        # If the specie is not contained in the dataset remove it\n",
    "        if speciesLeft not in SpeciesInDataset:\n",
    "            listSpeciesLeft.remove(speciesLeft)\n",
    "listSpeciesLeft"
   ]
  },
  {
   "cell_type": "markdown",
   "metadata": {},
   "source": [
    "-> The species 3,4,6,7 and 8 are contained by all the datasets. \n",
    "\n",
    "Some other species are for sure also present in many datasets (like 0) but these are present in all. and so we can for sure evaluate the interaction between these for all the data sets!\n",
    "\n",
    "After some playing around:"
   ]
  },
  {
   "cell_type": "code",
   "execution_count": 93,
   "metadata": {
    "collapsed": true,
    "jupyter": {
     "outputs_hidden": true,
     "source_hidden": true
    }
   },
   "outputs": [
    {
     "name": "stdout",
     "output_type": "stream",
     "text": [
      "1\n"
     ]
    },
    {
     "data": {
      "text/plain": [
       "[<matplotlib.lines.Line2D at 0x7fae2fbfc1d0>]"
      ]
     },
     "execution_count": 93,
     "metadata": {},
     "output_type": "execute_result"
    },
    {
     "data": {
      "image/png": "[encoded data removed]",
      "text/plain": [
       "<Figure size 432x288 with 1 Axes>"
      ]
     },
     "metadata": {
      "needs_background": "light"
     },
     "output_type": "display_data"
    }
   ],
   "source": [
    "N = \"20\"\n",
    "Zone = \"All\"\n",
    "cond = \"_MaxStd\"\n",
    "RefSpecies = 3\n",
    "\n",
    "DataSetName = \"f\"+N+\"_\"+Zone+cond\n",
    "columnDataset = dDictSpecies[DataSetName][RefSpecies]\n",
    "\n",
    "print(columnDataset)\n",
    "plt.plot(dDataset[DataSetName][:,columnDataset])"
   ]
  },
  {
   "cell_type": "markdown",
   "metadata": {},
   "source": [
    "--------\n",
    "\n",
    "# Compare fit results between the different dataSets:\n",
    "\n",
    "First, complete the fit dictionary:"
   ]
  },
  {
   "cell_type": "code",
   "execution_count": 22,
   "metadata": {},
   "outputs": [],
   "source": [
    "for N in [10,20,50]:\n",
    "    for zone in Zones:\n",
    "        for cond in [\"\",\"_MaxStd\"]:\n",
    "            datasetName = \"f\"+str(N)+\"_\"+zone+cond \n",
    "            dFit[datasetName] = fitGLV({\"TS\":dDataset[datasetName],\"pertu\":dBool[zone]}, typeInput= \"Experiment\")\n",
    "            dFit[datasetName].computeNullHypo()"
   ]
  },
  {
   "cell_type": "code",
   "execution_count": 62,
   "metadata": {},
   "outputs": [],
   "source": [
    "\n",
    "def ratioMatrix(species1, species2, datasets):\n",
    "    \"\"\"Evaluate interaction term between species1 en species2. \n",
    "    Where we talk about growth of species1 that is being influced by species2\n",
    "    To evaluate growth rate set species2 = -1 \n",
    "    \"\"\"\n",
    "    fittedParameter = []\n",
    "    for datasetName in datasets:\n",
    "        try:\n",
    "            col = dDictSpecies[datasetName][species1] # Columns of beta are associated with the growth of species1\n",
    "            if species2<0: # If species2 is negatif then we want to evaluate the growthrate of species1\n",
    "                row = 0\n",
    "            else: \n",
    "                row = dDictSpecies[datasetName][species2]+1 # +1 because the first row is the growthrate of species 1\n",
    "        except: # Species 1 or 2 is not present in the dataset.\n",
    "            fittedParameter.append(np.nan)\n",
    "            continue\n",
    "        fittedParameter.append(dFit[datasetName].BEst[0,row,col])\n",
    "        \n",
    "    fittedParameter = np.array(fittedParameter).reshape(-1,len(fittedParameter))\n",
    "    return (fittedParameter[0], fittedParameter.T/fittedParameter)"
   ]
  },
  {
   "cell_type": "markdown",
   "metadata": {},
   "source": [
    "Create a few list of datasets that we want to compare in the matrix "
   ]
  },
  {
   "cell_type": "code",
   "execution_count": 39,
   "metadata": {},
   "outputs": [],
   "source": [
    "sectionPNoMaxStd = [\"f10_SectionP\",\"f20_SectionP\",\"f50_SectionP\"]\n",
    "sectionPMaxStd = [\"f10_SectionP_MaxStd\",\"f20_SectionP_MaxStd\",\"f50_SectionP_MaxStd\"]"
   ]
  },
  {
   "cell_type": "markdown",
   "metadata": {},
   "source": [
    "For the test let's first just test the selfinteraction of the first species."
   ]
  },
  {
   "cell_type": "code",
   "execution_count": 63,
   "metadata": {},
   "outputs": [
    {
     "name": "stdout",
     "output_type": "stream",
     "text": [
      "[       nan -0.0678276 -0.0381746]\n",
      "[[       nan        nan        nan]\n",
      " [       nan 1.         1.77677299]\n",
      " [       nan 0.5628181  1.        ]]\n"
     ]
    }
   ],
   "source": [
    "fitResult, matrix = ratioMatrix(species1=0, species2=10, datasets= sectionPNoMaxStd)\n",
    "print(fitResult)\n",
    "print(matrix)"
   ]
  },
  {
   "cell_type": "markdown",
   "metadata": {},
   "source": [
    "Ok so the code works! great now we just need to make a function that nicely plots this matrix. And start to explore!"
   ]
  },
  {
   "cell_type": "code",
   "execution_count": 64,
   "metadata": {},
   "outputs": [],
   "source": [
    "# Code for function to plot:"
   ]
  },
  {
   "cell_type": "code",
   "execution_count": 65,
   "metadata": {},
   "outputs": [],
   "source": [
    "# Explore results and interpret."
   ]
  },
  {
   "cell_type": "markdown",
   "metadata": {},
   "source": [
    "---------"
   ]
  },
  {
   "cell_type": "markdown",
   "metadata": {},
   "source": [
    "# Do they fit the same value?\n",
    "\n",
    "I now want to statistically asses if the fit that is done fits the same value!\n",
    "\n",
    "For this we are going to divide the timeseries into two sperate sets and fit the parameters on each sets separatly. And then statistically asses if the fits are possible to originate from the same true value. \n",
    "\n",
    "One mainly wants to compare this with the same datasets, but can also be expaned to evaluate between datasets. Here one just needs to make sure that the there were datasets overlap when they use the samepoints -> one needs to correctly divide it between the two. If the other datasets exludes some region but former not, then the former is allowed to use those points since no overlap is possible.\n",
    "\n",
    "So to create two data sets. One needs to create two modified \"pertubation boolian vectors\" were you need to add equivalently to the pertubation boolian vector."
   ]
  },
  {
   "cell_type": "code",
   "execution_count": 77,
   "metadata": {},
   "outputs": [],
   "source": [
    "def createIndependentSets(zoneDataset1, zoneDataset2):\n",
    "    boolVect1 = np.copy(dBool[zoneDataset1]) # copy to not alter the original\n",
    "    lenVec1 = np.sum(boolVect1==False)\n",
    "    boolVect2 = np.copy(dBool[zoneDataset2])\n",
    "    lenVec2 = np.sum(boolVect2==False)\n",
    "    \n",
    "    shared = np.logical_and(~boolVect1,~boolVect2)# ~ because \"False\" are the valid regions\n",
    "    lenShared = len(shared)\n",
    "    \n",
    "    setA = np.full(lenShared, False, dtype=bool)\n",
    "    setA[:l//2] = True # Set half equal to True\n",
    "    np.random.shuffle(setA) # Random shuffle to divide the data.\n",
    "    setB = ~setA\n",
    "    \n",
    "    # When lenShared is uneven, setA will have one point less.\n",
    "    # Give setA to the data set who already has more points. \n",
    "    boolVect1[shared] = setA if lenVec1>lenVec2 else setB\n",
    "    boolVect2[shared] = setB if lenVec1>lenVec2 else setA\n",
    "    return boolVect1, boolVect2"
   ]
  },
  {
   "cell_type": "code",
   "execution_count": 78,
   "metadata": {},
   "outputs": [],
   "source": [
    "def testSameFit(species1, species2, dataset1, Dataset2, zone1, zone2):\n",
    "    try: # Check if the reference species even exist in the datasets before we move on.\n",
    "        col_D1 = dDictSpecies[dataset1][species1]\n",
    "        col_D2 = dDictSpecies[dataset2][species1]\n",
    "        if species2<0: # Negative species2 means evaluate the growthrate of species1.\n",
    "            row_D1 = 0\n",
    "            row_D2 = 0\n",
    "        else:\n",
    "            row_D1 = dDictSpecies[dataset1][species2] + 1\n",
    "            row_D2 = dDictSpecies[dataset2][species2] + 1\n",
    "    except:\n",
    "        print(\"Error: species1 or 2 is not know for either dataset1 or 2\")\n",
    "        return\n",
    "    \n",
    "    SampleA, SampleB = createIndependentSets(zone1, zone2)\n",
    "    fitA = fitGLV({\"TS\":dDataset[dataset1],\"pertu\":SampleA}, typeInput=\"Experiment\")\n",
    "    fitB = fitGLV({\"TS\":dDataset[dataset2],\"pertu\":SampleB}, typeInput=\"Experiment\")\n",
    "    # Make the LeastSquare fit\n",
    "    fitA.computeVarBEst()\n",
    "    fitB.computeVarBEst()\n",
    "    \n",
    "    # Compute the test statistic for the nullhypothesis that the parameters that were fitted\n",
    "    # Originated from a possible common true parameter.\n",
    "    \n",
    "    "
   ]
  }
 ],
 "metadata": {
  "kernelspec": {
   "display_name": "Python 3",
   "language": "python",
   "name": "python3"
  },
  "language_info": {
   "codemirror_mode": {
    "name": "ipython",
    "version": 3
   },
   "file_extension": ".py",
   "mimetype": "text/x-python",
   "name": "python",
   "nbconvert_exporter": "python",
   "pygments_lexer": "ipython3",
   "version": "3.6.8"
  }
 },
 "nbformat": 4,
 "nbformat_minor": 4
}
